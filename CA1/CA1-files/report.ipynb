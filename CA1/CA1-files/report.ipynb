{
 "cells": [
  {
   "cell_type": "markdown",
   "metadata": {},
   "source": [
    "Erfan Falahati"
   ]
  },
  {
   "cell_type": "markdown",
   "metadata": {},
   "source": [
    "### <span style=\"color: #4CAF50;\">Q1</span>\n",
    "\n",
    "It is better to consider the state as the positions of the boxes and Mike, because if the state includes the entire warehouse map, the state space will become larger, and search operations will be more costly due to the increased number of variables. It is better to choose the positions of the boxes and Mike, as these are the two key variables in solving the problem. These two variables alone can represent the game's state after each action.\n"
   ]
  },
  {
   "cell_type": "markdown",
   "metadata": {},
   "source": [
    "### <span style=\"color: #4CAF50;\">Q2</span>\n",
    "\n",
    "Each action can involve moving one of the boxes to another location by Mike pushing it, where Mike can move in the directions of left, right, up, and down. By moving the boxes (which could also involve using a portal), a new state is created.\n"
   ]
  },
  {
   "cell_type": "markdown",
   "metadata": {},
   "source": [
    "### <span style=\"color: #4CAF50;\">Q3</span>\n",
    "\n",
    "The **initial state** is defined based on the state definition, which includes the positions of the boxes and Mike.  \n",
    "To achieve this, the positions of the boxes and Mike are first retrieved from the map using getters.  \n",
    "The **goal state** is a state where all the boxes have reached their target locations.  \n",
    "The **actions** were also answered in the previous question.\n",
    "\n"
   ]
  },
  {
   "cell_type": "markdown",
   "metadata": {},
   "source": [
    "### <span style=\"color: #4CAF50;\">Q4</span>\n",
    "\n",
    "To optimize the search, we must avoid moves that lead to a **deadlock** as much as possible.  \n",
    "Additionally, we should prevent duplicate states from occurring, as they may cause the algorithm to get stuck in a **loop**.  \n",
    "In search algorithms, excessive expansion leads to a **large state space**, which results in memory-related issues.  \n",
    "To prevent this, we should prioritize **better moves** and ensure that our actions guide us toward a more optimal path.\n"
   ]
  },
  {
   "cell_type": "markdown",
   "metadata": {},
   "source": [
    "### <span style=\"color: #4CAF50;\">Q5</span>\n",
    "\n",
    "### **BFS Algorithm:**  \n",
    "\n",
    "**Advantages:**  \n",
    "● Finds the shortest path (optimal solution).  \n",
    "\n",
    "**Disadvantages:**  \n",
    "● Consumes a lot of memory because it stores all possible states at each level.  \n",
    "● Its efficiency decreases in large state spaces.\n",
    "\n",
    "### **DFS Algorithm:**  \n",
    "\n",
    "**Advantages:**  \n",
    "● Uses less memory compared to BFS.  \n",
    "● Can be more efficient in certain problems like puzzles or games with a smaller search space.  \n",
    "● Simple to implement, often using recursion.  \n",
    "\n",
    "**Disadvantages:**  \n",
    "● Does not guarantee the shortest path.  \n",
    "● May get stuck in infinite loops in case of cycles, unless the graph is properly managed.  \n",
    "● Can be inefficient in large search spaces as it explores one branch completely before moving to others.\n",
    "\n",
    "### **IDS Algorithm:**  \n",
    "\n",
    "**Advantages:**  \n",
    "● Combines the benefits of both DFS and BFS.  \n",
    "● Finds the shortest path like BFS but uses less memory.  \n",
    "● Suitable for problems with large state spaces where memory usage is a concern.  \n",
    "\n",
    "**Disadvantages:**  \n",
    "● May take more time compared to BFS because it repeatedly explores the same nodes at different depths.  \n",
    "● Less efficient in terms of time when the solution is found at a deeper level.  \n",
    "● Requires careful handli\n",
    "\n",
    "### **A* Algorithm:**  \n",
    "\n",
    "**Advantages:**  \n",
    "● Finds the shortest path in a weighted graph.  \n",
    "● Efficient by using heuristics to guide the search, improving speed.  \n",
    "● Guarantees the optimal solution if the heuristic is admissible (never overestimates the true cost).  \n",
    "\n",
    "**Disadvantages:**  \n",
    "● Can be memory-intensive, as it needs to store all nodes in the open and closed lists.  \n",
    "● Performance heavily depends on the quality of the heuristic function.  \n",
    "● May not perform well on very large or complex graphs with a poor heuristic.\n",
    "\n",
    "### **Weighted A* Algorithm:**  \n",
    "\n",
    "**Advantages:**  \n",
    "● Finds the shortest path like A*, but with a weight factor that allows faster solutions in certain cases.  \n",
    "● Can be more efficient than regular A* when an approximate solution is acceptable.  \n",
    "● Suitable for problems where finding an optimal solution quickly is more important than finding the exact optimal path.  \n",
    "\n",
    "**Disadvantages:**  \n",
    "● The weight factor can lead to suboptimal solutions if not properly chosen.  \n",
    "● May not guarantee the optimal solution, as the weight can distort the heuristic’s effectiveness.  \n",
    "● Can be memory-intensive, similar to A*, because it needs to store a large number of nodes in both open and closed lists.\n",
    "\n"
   ]
  },
  {
   "cell_type": "markdown",
   "metadata": {},
   "source": [
    "### <span style=\"color: #4CAF50;\">Answer to Part a of Q5:</span>\n",
    "\n",
    "\n",
    "The **DFS** algorithm does not guarantee finding the shortest path and may also get stuck. If the tree has a large depth, it consumes a lot of memory.  \n",
    "However, since it generally uses less memory than **BFS** and similar algorithms, it can be a good option.\n"
   ]
  },
  {
   "cell_type": "markdown",
   "metadata": {},
   "source": [
    "### <span style=\"color: #4CAF50;\">Answer to Part b of Q5:</span>\n",
    "\n",
    "\n",
    "**IDS** gradually increases the search depth at each step and performs the search in a depth-first manner (like **DFS**). However, for each depth, it starts the search from the beginning (like **BFS**), and in this way, it examines all nodes at a specific depth in each iteration. As a result, IDS requires less memory and, at the same time, can find the optimal path like BFS.\n"
   ]
  },
  {
   "cell_type": "markdown",
   "metadata": {},
   "source": [
    "### <span style=\"color: #4CAF50;\">Q6</span>\n",
    "\n",
    "implementation in notebook.ipynb\n"
   ]
  },
  {
   "cell_type": "markdown",
   "metadata": {},
   "source": [
    "### <span style=\"color: #4CAF50;\">Q7</span>\n",
    "\n",
    "At first, the Manhattan distance heuristic was considered. This heuristic, due to the fact that movements only occur in four directions on the game map, never results in a distance greater than the actual distance. From this perspective, this method is **admissible**.  \n",
    "This method is also **consistent** because every move in the horizontal or vertical direction reduces the movement cost and the distance to the goal by the same or a smaller amount than the previous value.\n",
    "\n",
    "One of the issues with the Manhattan distance is the consideration of walls, and this problem becomes more significant in maps that have portals because a box might be trapped in an area, and the only way to get the box out of it is through a portal.\n",
    "\n",
    "To solve this mentioned problem, we define another heuristic.  \n",
    "In this heuristic, the distance from the box to the portal, from the portal to the goal, and the distance from Mike to the portal are all considered.  \n",
    "This method is also **consistent** and **admissible** for the reasons mentioned.\n"
   ]
  },
  {
   "cell_type": "markdown",
   "metadata": {},
   "source": [
    "### <span style=\"color: #4CAF50;\">Q9</span>\n",
    "\n",
    "**map 1:**\n",
    "\n",
    "| Algorithm   | زمان اجرا | پاسخ مسئله | تعداد استیت‌های دیده‌شده |\n",
    "|------------|----------|------------|--------------------------|\n",
    "| BFS        | 0.0        |UDRULRR          |80                      |\n",
    "| DFS        | 0.0       |   UDRLDUL       | 10                      |\n",
    "| IDS        | 0.0       | UDRLDUL         | 8                        |\n",
    "| A*         | 0.0        | DULRRLU          | 74                       |\n",
    "| Weighted A*| 0.0        | UDLRRLD          | 14                        |\n"
   ]
  },
  {
   "cell_type": "markdown",
   "metadata": {},
   "source": [
    "\n",
    "**map 2:**\n",
    "\n",
    "| Algorithm   | زمان اجرا | پاسخ مسئله | تعداد استیت‌های دیده‌شده |\n",
    "|------------|----------|------------|--------------------------|\n",
    "| BFS        | 0.0       | LLRUDR          | 36                       |\n",
    "| DFS        | 0.0        | LUDDUL          | 9                       |\n",
    "| IDS        | 0.0        | LUDDUL          | 7                        |\n",
    "| A*         | 0.0        | LDULRU          | 24                        |\n",
    "| Weighted A*| 0.0        | LUDLRD          | 10                       |\n"
   ]
  },
  {
   "cell_type": "markdown",
   "metadata": {},
   "source": [
    "\n",
    "**map 3:**\n",
    "\n",
    "| Algorithm   | زمان اجرا | پاسخ مسئله | تعداد استیت‌های دیده‌شده |\n",
    "|------------|----------|------------|--------------------------|\n",
    "| BFS        | 0.0        | DUUURDDURDDLU          | 221                        |\n",
    "| DFS        | 0.0        |  ULUURDULDDDUUURDD...         | 68                       |\n",
    "| IDS        | 0.02        | ULDDUUUURDDDD          | 229                        |\n",
    "| A*         | 0.0        | ULUURDDDDUULDD          | 101                        |\n",
    "| Weighted A*| 0.0        | ULDUUURDDDDUULDD          | 44                       |\n"
   ]
  },
  {
   "cell_type": "markdown",
   "metadata": {},
   "source": [
    "\n",
    "**map 4:**\n",
    "\n",
    "No Solution Found !"
   ]
  },
  {
   "cell_type": "markdown",
   "metadata": {},
   "source": [
    "\n",
    "**map 5:**\n",
    "\n",
    "| Algorithm   | زمان اجرا | پاسخ مسئله | تعداد استیت‌های دیده‌شده |\n",
    "|------------|----------|------------|--------------------------|\n",
    "| BFS        | 0.08        | ULDDLDRLLUUURUR          | 14820                        |\n",
    "| DFS        | 0.11        | UULDDUURDDDDLUU...        | 5649                        |\n",
    "| IDS        | 1.91        | ULDDRDLLLUUURUL          | 42267                        |\n",
    "| A*         | 0.01        | LULDDRDLLUUURUL          | 1029                        |\n",
    "| Weighted A*| 0.0        | LULDLRDRDLLULUU          | 91                        |\n"
   ]
  },
  {
   "cell_type": "markdown",
   "metadata": {},
   "source": [
    "\n",
    "**map 6:**\n",
    "\n",
    "| Algorithm   | زمان اجرا | پاسخ مسئله | تعداد استیت‌های دیده‌شده |\n",
    "|------------|----------|------------|--------------------------|\n",
    "| BFS        | 0.34        | ULLLLUURLLLLLLLDDDDDDDDD...          | 55288                        |\n",
    "| DFS        | -        | -          | -                        |\n",
    "| IDS        | -        | -          | -                        |\n",
    "| A*         | 0.17        | DDDDDRRRLLLLLLLRUUUUUU...          | 13823                        |\n",
    "| Weighted A*| 0.05        | RRDDDDDRLLLLLLLUUUUUUUU...          | 5312                        |\n"
   ]
  },
  {
   "cell_type": "markdown",
   "metadata": {},
   "source": [
    "\n",
    "**map 7:**\n",
    "\n",
    "| Algorithm   | زمان اجرا | پاسخ مسئله | تعداد استیت‌های دیده‌شده |\n",
    "|------------|----------|------------|--------------------------|\n",
    "| BFS        | 15.23        | LURRDDDDLDLDRRULLLR          | 1446699                        |\n",
    "| DFS        | -        | -          | -                        |\n",
    "| IDS        | -        | -          | -                        |\n",
    "| A*         | 1.47        | RURRDDDDLDRUUUULLLRDRDRD...          | 85579                        |\n",
    "| Weighted A*| 0.1        | RURRDDDDLDRUUUULLLRD...          | 7119                        |\n"
   ]
  },
  {
   "cell_type": "markdown",
   "metadata": {},
   "source": [
    "\n",
    "**map 8:**\n",
    "\n",
    "| Algorithm   | زمان اجرا | پاسخ مسئله | تعداد استیت‌های دیده‌شده |\n",
    "|------------|----------|------------|--------------------------|\n",
    "| BFS        | 0.17        | DURDLDRRDLURDL          | 22333                       |\n",
    "| DFS        | -        | -          | -                        |\n",
    "| IDS        | 1.86        | UURDLDRRDRURDR          | 26983                       |\n",
    "| A*         | 0.1        | UURDLDRRDRURDR          | 6025                        |\n",
    "| Weighted A*| 0.8        | UURDLDRRDRURDR         | 46046                        |\n"
   ]
  },
  {
   "cell_type": "markdown",
   "metadata": {},
   "source": [
    "\n",
    "map 9:\n",
    "\n",
    "| Algorithm   | زمان اجرا | پاسخ مسئله | تعداد استیت‌های دیده‌شده |\n",
    "|------------|----------|------------|--------------------------|\n",
    "| BFS        | -        | -          | -                        |\n",
    "| DFS        | -        | -          | -                        |\n",
    "| IDS        | -        | -          | -                        |\n",
    "| A*         | -        | -          | -                        |\n",
    "| Weighted A*| 5.83        | RRLURRRRDRDLDLULULURURDRURDRD...          | 258752                        |\n"
   ]
  },
  {
   "cell_type": "markdown",
   "metadata": {},
   "source": [
    "\n",
    "map 10:\n",
    "\n",
    "| Algorithm   | زمان اجرا | پاسخ مسئله | تعداد استیت‌های دیده‌شده |\n",
    "|------------|----------|------------|--------------------------|\n",
    "| BFS        | 3.87        | RRRRRDLLUDUULLLRRUDDR...          | 725518                        |\n",
    "| DFS        | -        | -          | -                        |\n",
    "| IDS        | -        | -          | -                        |\n",
    "| A*         | 1.54        | RRRRURDRDLLLRRRUULLLDRRUULULD          | 99453                        |\n",
    "| Weighted A*| 2.58        | RRRRURDRDLLLURRRU...          | 165749                        |\n"
   ]
  }
 ],
 "metadata": {
  "language_info": {
   "name": "python"
  }
 },
 "nbformat": 4,
 "nbformat_minor": 2
}
