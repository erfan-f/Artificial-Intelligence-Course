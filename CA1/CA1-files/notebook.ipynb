{
 "cells": [
  {
   "cell_type": "code",
   "execution_count": 18,
   "metadata": {},
   "outputs": [],
   "source": [
    "from game import Game\n",
    "import time\n",
    "import os\n",
    "import re"
   ]
  },
  {
   "cell_type": "markdown",
   "metadata": {},
   "source": [
    "## Load maps"
   ]
  },
  {
   "cell_type": "code",
   "execution_count": 19,
   "metadata": {},
   "outputs": [],
   "source": [
    "def extract_map_files(directory):\n",
    "    pattern = re.compile(r'^map(\\d+)\\.txt$')\n",
    "    map_file_indices = []\n",
    "\n",
    "    for file_name in os.listdir(directory):\n",
    "        match = pattern.match(file_name)\n",
    "        if match:\n",
    "            map_file_indices.append(match.group(1))\n",
    "\n",
    "    return [int(idx) for idx in map_file_indices]\n",
    "\n",
    "def is_valid_input(map, indices, algorithm, solvers):\n",
    "    valid_input = True\n",
    "    if map not in indices:\n",
    "        print(f\"Map index out of range. Please choose within range {min(indices)} to {max(indices)}\")\n",
    "        valid_input = False\n",
    "    if algorithm not in solvers.keys():    \n",
    "        print(f\"{algorithm} is not a defined algorithm. Please choose from\", *[f\"{solver} ({i+1})  \" for i, solver in enumerate(solvers.keys())])\n",
    "        valid_input = False\n",
    "    return valid_input\n",
    "\n",
    "def load_map(map_index):  \n",
    "    file_name = \"map\" + str(map_index) + \".txt\"\n",
    "    with open('./assets/maps/' + file_name) as f:\n",
    "        game_map = f.read()\n",
    "    return game_map\n",
    "\n",
    "map_file_indices = extract_map_files(\"./assets/maps/\")"
   ]
  },
  {
   "cell_type": "markdown",
   "metadata": {},
   "source": [
    "## Tutorial"
   ]
  },
  {
   "cell_type": "code",
   "execution_count": 20,
   "metadata": {},
   "outputs": [
    {
     "name": "stdout",
     "output_type": "stream",
     "text": [
      "This is an example of the game map:\n",
      "W\tP1\tH\tW\tW\tW\tW\n",
      "W\tW\tW\tG1\tW\tW\tW\n",
      "W\tW\tW\tB1\tW\tW\tW\n",
      "W\tG2\tB2\t.\tP1\tW\tW\n",
      "W\tW\tW\tB3\tW\tW\tW\n",
      "W\tW\tW\tG3\tW\tW\tW\n",
      "W\tW\tW\tW\tW\tW\tW\n"
     ]
    }
   ],
   "source": [
    "print(\"This is an example of the game map:\")\n",
    "map = load_map(2)\n",
    "game = Game(map)\n",
    "game.display_map()"
   ]
  },
  {
   "cell_type": "code",
   "execution_count": 21,
   "metadata": {},
   "outputs": [
    {
     "data": {
      "text/plain": [
       "[(2, 3), (3, 2), (4, 3)]"
      ]
     },
     "execution_count": 21,
     "metadata": {},
     "output_type": "execute_result"
    }
   ],
   "source": [
    "game.get_box_locations()"
   ]
  },
  {
   "cell_type": "code",
   "execution_count": 22,
   "metadata": {},
   "outputs": [
    {
     "data": {
      "text/plain": [
       "[(1, 3), (3, 1), (5, 3)]"
      ]
     },
     "execution_count": 22,
     "metadata": {},
     "output_type": "execute_result"
    }
   ],
   "source": [
    "game.get_goal_locations()"
   ]
  },
  {
   "cell_type": "code",
   "execution_count": 23,
   "metadata": {},
   "outputs": [
    {
     "data": {
      "text/plain": [
       "(0, 2)"
      ]
     },
     "execution_count": 23,
     "metadata": {},
     "output_type": "execute_result"
    }
   ],
   "source": [
    "game.get_player_position()"
   ]
  },
  {
   "cell_type": "markdown",
   "metadata": {},
   "source": [
    "- W : Wall\n",
    "- H : Human\n",
    "- B : Box\n",
    "- P : Portal\n",
    "- G : Goal"
   ]
  },
  {
   "cell_type": "code",
   "execution_count": 24,
   "metadata": {},
   "outputs": [
    {
     "name": "stdout",
     "output_type": "stream",
     "text": [
      "Move U is valid: False\n",
      "Move D is valid: False\n",
      "Move R is valid: False\n",
      "Move L is valid: True\n",
      "W\tP1\t.\tW\tW\tW\tW\n",
      "W\tW\tW\tG1\tW\tW\tW\n",
      "W\tW\tW\tB1\tW\tW\tW\n",
      "W\tG2\tB2\tH\tP1\tW\tW\n",
      "W\tW\tW\tB3\tW\tW\tW\n",
      "W\tW\tW\tG3\tW\tW\tW\n",
      "W\tW\tW\tW\tW\tW\tW\n"
     ]
    }
   ],
   "source": [
    "for direction in ['U', 'D', 'R', 'L']:\n",
    "    result = game.apply_move(direction)\n",
    "    print(f\"Move {direction} is valid: {result}\")\n",
    "    if result:\n",
    "        game.display_map()"
   ]
  },
  {
   "cell_type": "code",
   "execution_count": 25,
   "metadata": {},
   "outputs": [
    {
     "name": "stdout",
     "output_type": "stream",
     "text": [
      "W\tP1\t.\tW\tW\tW\tW\n",
      "W\tW\tW\tG1/B1\tW\tW\tW\n",
      "W\tW\tW\tH\tW\tW\tW\n",
      "W\tG2\tB2\t.\tP1\tW\tW\n",
      "W\tW\tW\tB3\tW\tW\tW\n",
      "W\tW\tW\tG3\tW\tW\tW\n",
      "W\tW\tW\tW\tW\tW\tW\n"
     ]
    }
   ],
   "source": [
    "game.apply_move('U')\n",
    "game.display_map()"
   ]
  },
  {
   "cell_type": "code",
   "execution_count": 26,
   "metadata": {},
   "outputs": [
    {
     "name": "stdout",
     "output_type": "stream",
     "text": [
      "W\tP1\t.\tW\tW\tW\tW\n",
      "W\tW\tW\tG1/B1\tW\tW\tW\n",
      "W\tW\tW\t.\tW\tW\tW\n",
      "W\tG2/B2\t.\t.\tP1\tW\tW\n",
      "W\tW\tW\tH\tW\tW\tW\n",
      "W\tW\tW\tG3/B3\tW\tW\tW\n",
      "W\tW\tW\tW\tW\tW\tW\n",
      "Is game won? True\n"
     ]
    }
   ],
   "source": [
    "game.apply_moves(['D', 'L', 'R', 'D']) \n",
    "game.display_map()\n",
    "print(\"Is game won?\", game.is_game_won())"
   ]
  },
  {
   "cell_type": "markdown",
   "metadata": {},
   "source": [
    "## Solvers"
   ]
  },
  {
   "cell_type": "markdown",
   "metadata": {},
   "source": [
    "### BFS"
   ]
  },
  {
   "cell_type": "code",
   "execution_count": 27,
   "metadata": {},
   "outputs": [],
   "source": [
    "# TODO: Must return moves (if there is no solution return None), number of visited states\n",
    "from collections import deque\n",
    "\n",
    "def solver_bfs(game_map):\n",
    "    \n",
    "    game = Game(game_map)\n",
    "    initial_state  = {\n",
    "        'mike_position': game.get_player_position(),\n",
    "        'box_positions': game.get_box_locations(),\n",
    "    }\n",
    "    \n",
    "    queue = deque([(initial_state, '')])\n",
    "    visited_state = set()\n",
    "    visited_count = 0\n",
    "    moves = ['U', 'D', 'R', 'L']\n",
    "\n",
    "    while queue:\n",
    "        state, path = queue.popleft()\n",
    "        \n",
    "        visited_count += 1\n",
    "        \n",
    "        state_tuple = (state['mike_position'], tuple(state['box_positions']))\n",
    "        if state_tuple in visited_state:\n",
    "            continue\n",
    "        \n",
    "        if game.is_game_won():\n",
    "            return path, visited_count\n",
    "        \n",
    "\n",
    "        visited_state.add(state_tuple)\n",
    "\n",
    "        for move in moves:\n",
    "            if game.apply_move(move):\n",
    "                new_state = {\n",
    "                    'mike_position': game.get_player_position(),\n",
    "                    'box_positions': game.get_box_locations(),\n",
    "                }\n",
    "                new_path = path + move\n",
    "                queue.append((new_state, new_path))\n",
    "            game.set_box_positions(state['box_positions'])\n",
    "            game.set_player_position(state['mike_position'])\n",
    "\n",
    "    return None, 0"
   ]
  },
  {
   "cell_type": "markdown",
   "metadata": {},
   "source": [
    "### DFS"
   ]
  },
  {
   "cell_type": "code",
   "execution_count": 28,
   "metadata": {},
   "outputs": [],
   "source": [
    "def solver_dfs(game_map):\n",
    "    \n",
    "    game = Game(game_map)\n",
    "    initial_state = {\n",
    "        'mike_position': game.get_player_position(),\n",
    "        'box_positions': game.get_box_locations(),\n",
    "    }\n",
    "    \n",
    "    visited_state = set()\n",
    "    visited_count = 0\n",
    "    moves = ['U', 'R', 'D', 'L']\n",
    "\n",
    "    def dfs(state, path):\n",
    "        nonlocal visited_count\n",
    "\n",
    "        if game.is_game_won():\n",
    "            return path\n",
    "        \n",
    "        state_tuple = (state['mike_position'], tuple(state['box_positions']))\n",
    "        if state_tuple in visited_state:\n",
    "            return None\n",
    "        \n",
    "        visited_state.add(state_tuple)\n",
    "        visited_count += 1\n",
    "        for move in moves:\n",
    "            if game.apply_move(move):\n",
    "                new_state = {\n",
    "                    'mike_position': game.get_player_position(),\n",
    "                    'box_positions': game.get_box_locations(),\n",
    "                }\n",
    "                result = dfs(new_state, path + move)\n",
    "                if result:\n",
    "                    return result\n",
    "            game.set_box_positions(state['box_positions'])\n",
    "            game.set_player_position(state['mike_position'])\n",
    "                \n",
    "        return None\n",
    "\n",
    "    founded_path = dfs(initial_state,'')\n",
    "    if founded_path:\n",
    "        return founded_path, visited_count\n",
    "\n",
    "    return None, 0\n"
   ]
  },
  {
   "cell_type": "markdown",
   "metadata": {},
   "source": [
    "### IDS"
   ]
  },
  {
   "cell_type": "code",
   "execution_count": 29,
   "metadata": {},
   "outputs": [],
   "source": [
    "# TODO: Must return moves, number of visited states\n",
    "\n",
    "def solver_ids(game_map):\n",
    "    game = Game(game_map)\n",
    "    initial_state = {\n",
    "        'mike_position': game.get_player_position(),\n",
    "        'box_positions': game.get_box_locations(),\n",
    "    }\n",
    "    length, width = game.get_map_size()\n",
    "    max_depth = length * width\n",
    "        \n",
    "    visited_count = 0\n",
    "    moves = ['U', 'R', 'D', 'L']\n",
    "\n",
    "    def dls(state, path, depth_limit, visited_state):\n",
    "        nonlocal visited_count\n",
    "\n",
    "        if game.is_game_won():\n",
    "            return path\n",
    "        \n",
    "        if depth_limit == 0:\n",
    "            return None\n",
    "        \n",
    "        state_tuple = (state['mike_position'], tuple(state['box_positions']))\n",
    "        if state_tuple in visited_state:\n",
    "            return None\n",
    "        \n",
    "        visited_state.add(state_tuple)\n",
    "        visited_count += 1\n",
    "\n",
    "        for move in moves:\n",
    "            if game.apply_move(move):\n",
    "                new_state = {\n",
    "                    'mike_position': game.get_player_position(),\n",
    "                    'box_positions': game.get_box_locations(),\n",
    "                }\n",
    "                s = visited_state\n",
    "                result = dls(new_state, path + move, depth_limit-1, visited_state)\n",
    "                if result:\n",
    "                    return result\n",
    "            game.set_player_position(state['mike_position'])\n",
    "            game.set_box_positions(state['box_positions'])\n",
    "        \n",
    "        visited_state.remove(state_tuple)\n",
    "\n",
    "    \n",
    "    for i in range(max_depth):\n",
    "        visited_state = set()\n",
    "        visited_count = 0\n",
    "        result = dls(initial_state, '', i, visited_state)\n",
    "        if result:\n",
    "            return result, visited_count\n",
    "        \n",
    "    return None, 0"
   ]
  },
  {
   "cell_type": "markdown",
   "metadata": {},
   "source": [
    "At first, the Manhattan distance heuristic was considered. This heuristic, due to the fact that movements only occur in four directions on the game map, never results in a distance greater than the actual distance. From this perspective, this method is **admissible**.  \n",
    "This method is also **consistent** because every move in the horizontal or vertical direction reduces the movement cost and the distance to the goal by the same or a smaller amount than the previous value.\n",
    "\n",
    "One of the issues with the Manhattan distance is the consideration of walls, and this problem becomes more significant in maps that have portals because a box might be trapped in an area, and the only way to get the box out of it is through a portal.\n",
    "\n",
    "To solve this mentioned problem, we define another heuristic.  \n",
    "In this heuristic, the distance from the box to the portal, from the portal to the goal, and the distance from Mike to the portal are all considered.  \n",
    "This method is also **consistent** and **admissible** for the reasons mentioned.\n"
   ]
  },
  {
   "cell_type": "markdown",
   "metadata": {},
   "source": [
    "### A*"
   ]
  },
  {
   "cell_type": "code",
   "execution_count": 30,
   "metadata": {},
   "outputs": [],
   "source": [
    "import heapq\n",
    "\n",
    "\n",
    "def heuristic(game):\n",
    "    goal_positions = game.get_goal_locations()\n",
    "    box_positions = game.get_box_locations()\n",
    "    mike_position = game.get_player_position()\n",
    "    portal_groups = game.get_portal_locations() \n",
    "\n",
    "    total_distance = 0\n",
    "\n",
    "    for box, goal in zip(box_positions, goal_positions):\n",
    "        min_distance = abs(box[0] - goal[0]) + abs(box[1] - goal[1])\n",
    "        box_to_ports = []\n",
    "        mike_to_ports = []\n",
    "        for portal_group in portal_groups:\n",
    "            entry, exit = portal_group\n",
    "            box_entry_dist_1 = abs(box[0] - entry[0]) + abs(box[1] - entry[1])\n",
    "            goal_exit_dist_1 = abs(goal[0] - exit[0]) + abs(goal[1] - exit[1])\n",
    "            goal_exit_dist_2 = abs(box[0] - exit[0]) + abs(box[1] - exit[1])\n",
    "            goal_entry_dist_2 = abs(goal[0] - entry[0]) + abs(goal[1] - entry[1])\n",
    "            mike_entry_dist = abs(mike_position[0] - entry[0]) + abs(mike_position[1] - entry[1])\n",
    "            mike_exit_dist = abs(mike_position[0] - exit[0]) + abs(mike_position[1] - exit[1])\n",
    "            box_to_ports.append(min(box_entry_dist_1+goal_exit_dist_1, goal_exit_dist_2+goal_entry_dist_2))\n",
    "            mike_to_ports.append(min(mike_entry_dist, mike_exit_dist))\n",
    "\n",
    "        if(len(portal_groups) == 2):\n",
    "            total_distance += min(box_to_ports[0], box_to_ports[1]) + min(mike_to_ports[0], mike_to_ports[1])\n",
    "        elif(len(portal_groups) == 1):\n",
    "            total_distance += min(min_distance, box_to_ports[0] + mike_to_ports[0])\n",
    "        else:\n",
    "            total_distance += min_distance\n",
    "\n",
    "    mike_to_box_distance = min(abs(mike_position[0] - box[0]) + abs(mike_position[1] - box[1]) for box in box_positions)\n",
    "\n",
    "    return total_distance + mike_to_box_distance\n",
    "\n",
    "\n",
    "def solver_astar(game_map, heuristic_func=heuristic, weight=1):\n",
    "    game = Game(game_map)\n",
    "\n",
    "    initial_state = (\n",
    "        game.get_player_position(),\n",
    "        tuple(game.get_box_locations())\n",
    "    )\n",
    "\n",
    "    priority_queue = []\n",
    "    initial_h = weight * heuristic_func(game)\n",
    "    heapq.heappush(priority_queue, (initial_h, 0, initial_state, ''))  \n",
    "\n",
    "    visited_states = {}\n",
    "    visited_count = 0\n",
    "    moves = ['U', 'R', 'D', 'L']\n",
    "\n",
    "    while priority_queue:\n",
    "        _, g, state_tuple, path = heapq.heappop(priority_queue)\n",
    "        visited_count += 1\n",
    "\n",
    "        mike_position, box_positions = state_tuple\n",
    "\n",
    "        if state_tuple in visited_states and visited_states[state_tuple] <= g:\n",
    "            continue\n",
    "        visited_states[state_tuple] = g\n",
    "\n",
    "        if set(box_positions) == set(game.get_goal_locations()):\n",
    "            return path, visited_count  \n",
    "\n",
    "        for move in moves:\n",
    "            game.set_player_position(mike_position)\n",
    "            game.set_box_positions(list(box_positions))\n",
    "            if game.apply_move(move):  \n",
    "                new_state_tuple = (\n",
    "                    game.get_player_position(),\n",
    "                    tuple(game.get_box_locations())\n",
    "                )\n",
    "                _h = heuristic_func(game)\n",
    "                _g = g + 1  \n",
    "                _f = (weight * _h) + _g\n",
    "                heapq.heappush(priority_queue, (_f, _g, new_state_tuple, path + move))\n",
    "    \n",
    "    return None, visited_count\n"
   ]
  },
  {
   "cell_type": "markdown",
   "metadata": {},
   "source": [
    "## Solve"
   ]
  },
  {
   "cell_type": "code",
   "execution_count": 31,
   "metadata": {},
   "outputs": [],
   "source": [
    "SOLVERS = {\n",
    "    \"BFS\": solver_bfs,\n",
    "    \"DFS\": solver_dfs,\n",
    "    \"IDS\": solver_ids,\n",
    "    \"A*\": solver_astar,\n",
    "    \"Weighted-A*\": solver_astar,\n",
    "}"
   ]
  },
  {
   "cell_type": "code",
   "execution_count": 32,
   "metadata": {},
   "outputs": [],
   "source": [
    "def solve(map, method, weight=1):  \n",
    "    \n",
    "    if not is_valid_input(map, map_file_indices, method, SOLVERS):\n",
    "        return\n",
    "    \n",
    "    file_name = \"map\" + str(map) + \".txt\"\n",
    "    with open('./assets/maps/' + file_name) as f:\n",
    "        game_map = f.read()\n",
    "    \n",
    "    start_time = time.time()\n",
    "    if method == \"Weighted-A*\":\n",
    "        moves, numof_visited_states = SOLVERS[method](game_map, weight = weight)\n",
    "    else:\n",
    "        moves, numof_visited_states = SOLVERS[method](game_map)\n",
    "    end_time = time.time()\n",
    "    print(f\"{method} took {round(end_time - start_time, 2)} seconds on map {map} and visited {numof_visited_states} states.\")\n",
    "    \n",
    "    if moves is None:\n",
    "        print(\"No Solution Found!\")\n",
    "    else:\n",
    "        print(f\"{len(moves)} moves were used: {moves}\")\n",
    "            "
   ]
  },
  {
   "cell_type": "code",
   "execution_count": 33,
   "metadata": {},
   "outputs": [],
   "source": [
    "def solve_all():\n",
    "    for map in range(min(map_file_indices), max(map_file_indices) + 1):\n",
    "        for method in SOLVERS.keys():\n",
    "            if((method == \"A*\")):\n",
    "                solve(map, method)\n",
    "            "
   ]
  },
  {
   "cell_type": "markdown",
   "metadata": {},
   "source": [
    "**📝 The results have been recorded in the table of the <span style=\"color:Red;\">report.ipynb</span> file.**\n"
   ]
  },
  {
   "cell_type": "code",
   "execution_count": null,
   "metadata": {},
   "outputs": [
    {
     "name": "stdout",
     "output_type": "stream",
     "text": [
      "A* took 0.0 seconds on map 1 and visited 74 states.\n",
      "7 moves were used: DULRRLU\n",
      "A* took 0.0 seconds on map 2 and visited 24 states.\n",
      "6 moves were used: LDULRU\n",
      "A* took 0.0 seconds on map 3 and visited 101 states.\n",
      "14 moves were used: ULUURDDDDUULDD\n",
      "A* took 0.0 seconds on map 4 and visited 3 states.\n",
      "No Solution Found!\n",
      "A* took 0.01 seconds on map 5 and visited 1029 states.\n",
      "15 moves were used: LULDDRDLLUUURUL\n"
     ]
    },
    {
     "name": "stdout",
     "output_type": "stream",
     "text": [
      "A* took 0.17 seconds on map 6 and visited 13823 states.\n",
      "34 moves were used: DDDDDRRRLLLLLLLRUUUUUUUUUULRRRRRRR\n",
      "A* took 1.64 seconds on map 7 and visited 85579 states.\n",
      "34 moves were used: RURRDDDDLDRUUUULLLRDRDRDDLLDLLURLU\n",
      "A* took 0.14 seconds on map 8 and visited 6025 states.\n",
      "14 moves were used: UURDLDRRDRURDR\n",
      "A* took 1.6 seconds on map 10 and visited 99453 states.\n",
      "29 moves were used: RRRRURDRDLLLRRRUULLLDRRUULULD\n",
      "Weighted-A* took 0.0 seconds on map 1 and visited 14 states.\n",
      "7 moves were used: UDLRRLD\n",
      "Weighted-A* took 0.0 seconds on map 2 and visited 10 states.\n",
      "6 moves were used: LUDLRD\n",
      "Weighted-A* took 0.0 seconds on map 3 and visited 44 states.\n",
      "16 moves were used: ULDUUURDDDDUULDD\n",
      "Weighted-A* took 0.0 seconds on map 4 and visited 3 states.\n",
      "No Solution Found!\n",
      "Weighted-A* took 0.0 seconds on map 5 and visited 91 states.\n",
      "15 moves were used: LULDLRDRDLLULUU\n",
      "Weighted-A* took 0.05 seconds on map 6 and visited 5312 states.\n",
      "34 moves were used: RRDDDDDRLLLLLLLUUUUUUUUURULRRRRRRR\n",
      "Weighted-A* took 0.11 seconds on map 7 and visited 7119 states.\n",
      "34 moves were used: RURRDDDDLDRUUUULLLRDRDRDDLLDLLUUDR\n",
      "Weighted-A* took 0.79 seconds on map 8 and visited 46046 states.\n",
      "14 moves were used: UURDLDRRDRURDR\n",
      "Weighted-A* took 5.56 seconds on map 9 and visited 258752 states.\n",
      "55 moves were used: RRLURRRRDRDLDLULULURURDRURDRDLLUULLUUULLLURRURDDDDDDLDR\n"
     ]
    }
   ],
   "source": [
    "# for map in [1, 2, 3, 4, 5, 6, 7, 8, 10]:\n",
    "#     solve(map, \"BFS\")\n",
    "\n",
    "# for map in [1, 2, 3, 4, 5]:\n",
    "#     solve(map, \"DFS\")\n",
    "\n",
    "# for map in [1, 2, 3, 4, 5, 8]:\n",
    "#     solve(map, \"IDS\")\n",
    "\n",
    "for map in [1, 2, 3, 4, 5, 6, 7, 8, 10]:\n",
    "    solve(map, \"A*\")\n",
    "\n",
    "for map in [1, 2, 3, 4, 5, 6, 7, 8, 9, 10]:\n",
    "    solve(map, \"Weighted-A*\", weight=2.5)\n",
    "    "
   ]
  }
 ],
 "metadata": {
  "kernelspec": {
   "display_name": "Python 3",
   "language": "python",
   "name": "python3"
  },
  "language_info": {
   "codemirror_mode": {
    "name": "ipython",
    "version": 3
   },
   "file_extension": ".py",
   "mimetype": "text/x-python",
   "name": "python",
   "nbconvert_exporter": "python",
   "pygments_lexer": "ipython3",
   "version": "3.12.3"
  }
 },
 "nbformat": 4,
 "nbformat_minor": 2
}
