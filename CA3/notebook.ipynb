{
 "cells": [
  {
   "cell_type": "markdown",
   "metadata": {},
   "source": [
    "**<span style=\"color: #808080;\">In The Name of God</span>**\n",
    "\n",
    "---\n",
    "\n",
    "**<span style=\"color: #808080;\">Erfan Falahati</span>**\n",
    "\n",
    "**<span style=\"color: #808080;\">SID:</span> <span style=\"color: #808080;\">810102491</span>**\n",
    "\n",
    "# **<span style=\"color: #3399FF;\">Computer Assignment #3: Machine Learning</span>**\n"
   ]
  },
  {
   "cell_type": "code",
   "execution_count": 152,
   "metadata": {},
   "outputs": [],
   "source": [
    "import pandas as pd\n",
    "import numpy as np\n",
    "import matplotlib.pyplot as plt\n",
    "from sklearn.preprocessing import StandardScaler\n",
    "from sklearn.preprocessing import LabelEncoder\n",
    "from sklearn.naive_bayes import GaussianNB\n",
    "from sklearn.model_selection import train_test_split, GridSearchCV, RandomizedSearchCV\n",
    "from sklearn.metrics import accuracy_score, classification_report, confusion_matrix\n",
    "from sklearn.tree import DecisionTreeClassifier, plot_tree\n",
    "from sklearn.ensemble import RandomForestClassifier\n",
    "from xgboost import XGBClassifier"
   ]
  },
  {
   "cell_type": "code",
   "execution_count": 153,
   "metadata": {},
   "outputs": [],
   "source": [
    "DATASET_PATH = 'content/Grades.csv'\n",
    "CLEANED_DATASET_PATH = 'content/cleaned_data.csv'\n",
    "\n",
    "df = pd.read_csv(DATASET_PATH)"
   ]
  },
  {
   "cell_type": "markdown",
   "metadata": {},
   "source": [
    "# **<span style=\"color: #C0C0C0;\">Data Exploration in Tableau</span>**"
   ]
  },
  {
   "cell_type": "markdown",
   "metadata": {},
   "source": [
    "# **<span style=\"color: #C0C0C0;\">Preprocessing and Feauture Engineering</span>**"
   ]
  },
  {
   "cell_type": "markdown",
   "metadata": {},
   "source": [
    "## **<span style=\"color: #66B2FF;\">Dataset Overview</span>** "
   ]
  },
  {
   "cell_type": "code",
   "execution_count": 154,
   "metadata": {},
   "outputs": [
    {
     "data": {
      "text/html": [
       "<div>\n",
       "<style scoped>\n",
       "    .dataframe tbody tr th:only-of-type {\n",
       "        vertical-align: middle;\n",
       "    }\n",
       "\n",
       "    .dataframe tbody tr th {\n",
       "        vertical-align: top;\n",
       "    }\n",
       "\n",
       "    .dataframe thead th {\n",
       "        text-align: right;\n",
       "    }\n",
       "</style>\n",
       "<table border=\"1\" class=\"dataframe\">\n",
       "  <thead>\n",
       "    <tr style=\"text-align: right;\">\n",
       "      <th></th>\n",
       "      <th>university</th>\n",
       "      <th>sex</th>\n",
       "      <th>age</th>\n",
       "      <th>address</th>\n",
       "      <th>motherEducation</th>\n",
       "      <th>fatherEducation</th>\n",
       "      <th>motherJob</th>\n",
       "      <th>fatherJob</th>\n",
       "      <th>reason</th>\n",
       "      <th>travelTime</th>\n",
       "      <th>...</th>\n",
       "      <th>internet</th>\n",
       "      <th>romantic</th>\n",
       "      <th>freeTime</th>\n",
       "      <th>goOut</th>\n",
       "      <th>Dalc</th>\n",
       "      <th>Walc</th>\n",
       "      <th>absences</th>\n",
       "      <th>EPSGrade</th>\n",
       "      <th>DSGrade</th>\n",
       "      <th>finalGrade</th>\n",
       "    </tr>\n",
       "  </thead>\n",
       "  <tbody>\n",
       "    <tr>\n",
       "      <th>0</th>\n",
       "      <td>PR</td>\n",
       "      <td>F</td>\n",
       "      <td>18</td>\n",
       "      <td>U</td>\n",
       "      <td>4</td>\n",
       "      <td>4</td>\n",
       "      <td>at_home</td>\n",
       "      <td>teacher</td>\n",
       "      <td>course</td>\n",
       "      <td>2</td>\n",
       "      <td>...</td>\n",
       "      <td>no</td>\n",
       "      <td>no</td>\n",
       "      <td>3</td>\n",
       "      <td>4</td>\n",
       "      <td>1</td>\n",
       "      <td>1</td>\n",
       "      <td>6</td>\n",
       "      <td>5</td>\n",
       "      <td>6</td>\n",
       "      <td>6</td>\n",
       "    </tr>\n",
       "    <tr>\n",
       "      <th>1</th>\n",
       "      <td>PR</td>\n",
       "      <td>F</td>\n",
       "      <td>17</td>\n",
       "      <td>U</td>\n",
       "      <td>1</td>\n",
       "      <td>1</td>\n",
       "      <td>at_home</td>\n",
       "      <td>other</td>\n",
       "      <td>course</td>\n",
       "      <td>1</td>\n",
       "      <td>...</td>\n",
       "      <td>yes</td>\n",
       "      <td>no</td>\n",
       "      <td>3</td>\n",
       "      <td>3</td>\n",
       "      <td>1</td>\n",
       "      <td>1</td>\n",
       "      <td>4</td>\n",
       "      <td>5</td>\n",
       "      <td>5</td>\n",
       "      <td>6</td>\n",
       "    </tr>\n",
       "    <tr>\n",
       "      <th>2</th>\n",
       "      <td>PR</td>\n",
       "      <td>F</td>\n",
       "      <td>15</td>\n",
       "      <td>U</td>\n",
       "      <td>1</td>\n",
       "      <td>1</td>\n",
       "      <td>at_home</td>\n",
       "      <td>other</td>\n",
       "      <td>other</td>\n",
       "      <td>1</td>\n",
       "      <td>...</td>\n",
       "      <td>yes</td>\n",
       "      <td>no</td>\n",
       "      <td>3</td>\n",
       "      <td>2</td>\n",
       "      <td>2</td>\n",
       "      <td>3</td>\n",
       "      <td>10</td>\n",
       "      <td>7</td>\n",
       "      <td>8</td>\n",
       "      <td>10</td>\n",
       "    </tr>\n",
       "    <tr>\n",
       "      <th>3</th>\n",
       "      <td>PR</td>\n",
       "      <td>F</td>\n",
       "      <td>15</td>\n",
       "      <td>U</td>\n",
       "      <td>4</td>\n",
       "      <td>2</td>\n",
       "      <td>health</td>\n",
       "      <td>services</td>\n",
       "      <td>home</td>\n",
       "      <td>1</td>\n",
       "      <td>...</td>\n",
       "      <td>yes</td>\n",
       "      <td>yes</td>\n",
       "      <td>2</td>\n",
       "      <td>2</td>\n",
       "      <td>1</td>\n",
       "      <td>1</td>\n",
       "      <td>2</td>\n",
       "      <td>15</td>\n",
       "      <td>14</td>\n",
       "      <td>15</td>\n",
       "    </tr>\n",
       "    <tr>\n",
       "      <th>4</th>\n",
       "      <td>PR</td>\n",
       "      <td>F</td>\n",
       "      <td>16</td>\n",
       "      <td>U</td>\n",
       "      <td>3</td>\n",
       "      <td>3</td>\n",
       "      <td>other</td>\n",
       "      <td>other</td>\n",
       "      <td>home</td>\n",
       "      <td>1</td>\n",
       "      <td>...</td>\n",
       "      <td>no</td>\n",
       "      <td>no</td>\n",
       "      <td>3</td>\n",
       "      <td>2</td>\n",
       "      <td>1</td>\n",
       "      <td>2</td>\n",
       "      <td>4</td>\n",
       "      <td>6</td>\n",
       "      <td>10</td>\n",
       "      <td>10</td>\n",
       "    </tr>\n",
       "  </tbody>\n",
       "</table>\n",
       "<p>5 rows × 25 columns</p>\n",
       "</div>"
      ],
      "text/plain": [
       "  university sex  age address  motherEducation  fatherEducation motherJob  \\\n",
       "0         PR   F   18       U                4                4   at_home   \n",
       "1         PR   F   17       U                1                1   at_home   \n",
       "2         PR   F   15       U                1                1   at_home   \n",
       "3         PR   F   15       U                4                2    health   \n",
       "4         PR   F   16       U                3                3     other   \n",
       "\n",
       "  fatherJob  reason  travelTime  ...  internet  romantic freeTime goOut Dalc  \\\n",
       "0   teacher  course           2  ...        no        no        3     4    1   \n",
       "1     other  course           1  ...       yes        no        3     3    1   \n",
       "2     other   other           1  ...       yes        no        3     2    2   \n",
       "3  services    home           1  ...       yes       yes        2     2    1   \n",
       "4     other    home           1  ...        no        no        3     2    1   \n",
       "\n",
       "  Walc absences  EPSGrade  DSGrade  finalGrade  \n",
       "0    1        6         5        6           6  \n",
       "1    1        4         5        5           6  \n",
       "2    3       10         7        8          10  \n",
       "3    1        2        15       14          15  \n",
       "4    2        4         6       10          10  \n",
       "\n",
       "[5 rows x 25 columns]"
      ]
     },
     "execution_count": 154,
     "metadata": {},
     "output_type": "execute_result"
    }
   ],
   "source": [
    "df.head(5)"
   ]
  },
  {
   "cell_type": "code",
   "execution_count": 155,
   "metadata": {},
   "outputs": [
    {
     "data": {
      "text/html": [
       "<div>\n",
       "<style scoped>\n",
       "    .dataframe tbody tr th:only-of-type {\n",
       "        vertical-align: middle;\n",
       "    }\n",
       "\n",
       "    .dataframe tbody tr th {\n",
       "        vertical-align: top;\n",
       "    }\n",
       "\n",
       "    .dataframe thead th {\n",
       "        text-align: right;\n",
       "    }\n",
       "</style>\n",
       "<table border=\"1\" class=\"dataframe\">\n",
       "  <thead>\n",
       "    <tr style=\"text-align: right;\">\n",
       "      <th></th>\n",
       "      <th>age</th>\n",
       "      <th>motherEducation</th>\n",
       "      <th>fatherEducation</th>\n",
       "      <th>travelTime</th>\n",
       "      <th>studyTime</th>\n",
       "      <th>failures</th>\n",
       "      <th>freeTime</th>\n",
       "      <th>goOut</th>\n",
       "      <th>Dalc</th>\n",
       "      <th>Walc</th>\n",
       "      <th>absences</th>\n",
       "      <th>EPSGrade</th>\n",
       "      <th>DSGrade</th>\n",
       "      <th>finalGrade</th>\n",
       "    </tr>\n",
       "  </thead>\n",
       "  <tbody>\n",
       "    <tr>\n",
       "      <th>count</th>\n",
       "      <td>397.000000</td>\n",
       "      <td>397.000000</td>\n",
       "      <td>397.000000</td>\n",
       "      <td>397.000000</td>\n",
       "      <td>397.000000</td>\n",
       "      <td>397.000000</td>\n",
       "      <td>397.000000</td>\n",
       "      <td>397.000000</td>\n",
       "      <td>397.000000</td>\n",
       "      <td>397.000000</td>\n",
       "      <td>397.000000</td>\n",
       "      <td>397.000000</td>\n",
       "      <td>397.000000</td>\n",
       "      <td>397.000000</td>\n",
       "    </tr>\n",
       "    <tr>\n",
       "      <th>mean</th>\n",
       "      <td>16.705290</td>\n",
       "      <td>2.748111</td>\n",
       "      <td>2.521411</td>\n",
       "      <td>1.450882</td>\n",
       "      <td>2.032746</td>\n",
       "      <td>0.335013</td>\n",
       "      <td>3.234257</td>\n",
       "      <td>3.108312</td>\n",
       "      <td>1.478589</td>\n",
       "      <td>2.289673</td>\n",
       "      <td>5.695214</td>\n",
       "      <td>10.881612</td>\n",
       "      <td>10.687657</td>\n",
       "      <td>10.377834</td>\n",
       "    </tr>\n",
       "    <tr>\n",
       "      <th>std</th>\n",
       "      <td>1.279716</td>\n",
       "      <td>1.097301</td>\n",
       "      <td>1.090672</td>\n",
       "      <td>0.696840</td>\n",
       "      <td>0.838731</td>\n",
       "      <td>0.742714</td>\n",
       "      <td>0.996476</td>\n",
       "      <td>1.112762</td>\n",
       "      <td>0.889143</td>\n",
       "      <td>1.286770</td>\n",
       "      <td>7.988015</td>\n",
       "      <td>3.333120</td>\n",
       "      <td>3.770322</td>\n",
       "      <td>4.604928</td>\n",
       "    </tr>\n",
       "    <tr>\n",
       "      <th>min</th>\n",
       "      <td>15.000000</td>\n",
       "      <td>0.000000</td>\n",
       "      <td>0.000000</td>\n",
       "      <td>1.000000</td>\n",
       "      <td>1.000000</td>\n",
       "      <td>0.000000</td>\n",
       "      <td>1.000000</td>\n",
       "      <td>1.000000</td>\n",
       "      <td>1.000000</td>\n",
       "      <td>1.000000</td>\n",
       "      <td>0.000000</td>\n",
       "      <td>3.000000</td>\n",
       "      <td>0.000000</td>\n",
       "      <td>0.000000</td>\n",
       "    </tr>\n",
       "    <tr>\n",
       "      <th>25%</th>\n",
       "      <td>16.000000</td>\n",
       "      <td>2.000000</td>\n",
       "      <td>2.000000</td>\n",
       "      <td>1.000000</td>\n",
       "      <td>1.000000</td>\n",
       "      <td>0.000000</td>\n",
       "      <td>3.000000</td>\n",
       "      <td>2.000000</td>\n",
       "      <td>1.000000</td>\n",
       "      <td>1.000000</td>\n",
       "      <td>0.000000</td>\n",
       "      <td>8.000000</td>\n",
       "      <td>9.000000</td>\n",
       "      <td>8.000000</td>\n",
       "    </tr>\n",
       "    <tr>\n",
       "      <th>50%</th>\n",
       "      <td>17.000000</td>\n",
       "      <td>3.000000</td>\n",
       "      <td>2.000000</td>\n",
       "      <td>1.000000</td>\n",
       "      <td>2.000000</td>\n",
       "      <td>0.000000</td>\n",
       "      <td>3.000000</td>\n",
       "      <td>3.000000</td>\n",
       "      <td>1.000000</td>\n",
       "      <td>2.000000</td>\n",
       "      <td>4.000000</td>\n",
       "      <td>11.000000</td>\n",
       "      <td>11.000000</td>\n",
       "      <td>11.000000</td>\n",
       "    </tr>\n",
       "    <tr>\n",
       "      <th>75%</th>\n",
       "      <td>18.000000</td>\n",
       "      <td>4.000000</td>\n",
       "      <td>3.000000</td>\n",
       "      <td>2.000000</td>\n",
       "      <td>2.000000</td>\n",
       "      <td>0.000000</td>\n",
       "      <td>4.000000</td>\n",
       "      <td>4.000000</td>\n",
       "      <td>2.000000</td>\n",
       "      <td>3.000000</td>\n",
       "      <td>8.000000</td>\n",
       "      <td>13.000000</td>\n",
       "      <td>13.000000</td>\n",
       "      <td>14.000000</td>\n",
       "    </tr>\n",
       "    <tr>\n",
       "      <th>max</th>\n",
       "      <td>22.000000</td>\n",
       "      <td>4.000000</td>\n",
       "      <td>4.000000</td>\n",
       "      <td>4.000000</td>\n",
       "      <td>4.000000</td>\n",
       "      <td>3.000000</td>\n",
       "      <td>5.000000</td>\n",
       "      <td>5.000000</td>\n",
       "      <td>5.000000</td>\n",
       "      <td>5.000000</td>\n",
       "      <td>75.000000</td>\n",
       "      <td>19.000000</td>\n",
       "      <td>19.000000</td>\n",
       "      <td>20.000000</td>\n",
       "    </tr>\n",
       "  </tbody>\n",
       "</table>\n",
       "</div>"
      ],
      "text/plain": [
       "              age  motherEducation  fatherEducation  travelTime   studyTime  \\\n",
       "count  397.000000       397.000000       397.000000  397.000000  397.000000   \n",
       "mean    16.705290         2.748111         2.521411    1.450882    2.032746   \n",
       "std      1.279716         1.097301         1.090672    0.696840    0.838731   \n",
       "min     15.000000         0.000000         0.000000    1.000000    1.000000   \n",
       "25%     16.000000         2.000000         2.000000    1.000000    1.000000   \n",
       "50%     17.000000         3.000000         2.000000    1.000000    2.000000   \n",
       "75%     18.000000         4.000000         3.000000    2.000000    2.000000   \n",
       "max     22.000000         4.000000         4.000000    4.000000    4.000000   \n",
       "\n",
       "         failures    freeTime       goOut        Dalc        Walc    absences  \\\n",
       "count  397.000000  397.000000  397.000000  397.000000  397.000000  397.000000   \n",
       "mean     0.335013    3.234257    3.108312    1.478589    2.289673    5.695214   \n",
       "std      0.742714    0.996476    1.112762    0.889143    1.286770    7.988015   \n",
       "min      0.000000    1.000000    1.000000    1.000000    1.000000    0.000000   \n",
       "25%      0.000000    3.000000    2.000000    1.000000    1.000000    0.000000   \n",
       "50%      0.000000    3.000000    3.000000    1.000000    2.000000    4.000000   \n",
       "75%      0.000000    4.000000    4.000000    2.000000    3.000000    8.000000   \n",
       "max      3.000000    5.000000    5.000000    5.000000    5.000000   75.000000   \n",
       "\n",
       "         EPSGrade     DSGrade  finalGrade  \n",
       "count  397.000000  397.000000  397.000000  \n",
       "mean    10.881612   10.687657   10.377834  \n",
       "std      3.333120    3.770322    4.604928  \n",
       "min      3.000000    0.000000    0.000000  \n",
       "25%      8.000000    9.000000    8.000000  \n",
       "50%     11.000000   11.000000   11.000000  \n",
       "75%     13.000000   13.000000   14.000000  \n",
       "max     19.000000   19.000000   20.000000  "
      ]
     },
     "execution_count": 155,
     "metadata": {},
     "output_type": "execute_result"
    }
   ],
   "source": [
    "df.describe()"
   ]
  },
  {
   "cell_type": "code",
   "execution_count": 156,
   "metadata": {},
   "outputs": [
    {
     "data": {
      "text/markdown": [
       "### 📁 Check for NaN values"
      ],
      "text/plain": [
       "<IPython.core.display.Markdown object>"
      ]
     },
     "metadata": {},
     "output_type": "display_data"
    },
    {
     "data": {
      "text/html": [
       "<style type=\"text/css\">\n",
       "</style>\n",
       "<table id=\"T_e41b4\">\n",
       "  <caption>Raw Bounding Box Info</caption>\n",
       "  <thead>\n",
       "    <tr>\n",
       "      <th class=\"blank level0\" >&nbsp;</th>\n",
       "      <th id=\"T_e41b4_level0_col0\" class=\"col_heading level0 col0\" >Null Count</th>\n",
       "    </tr>\n",
       "  </thead>\n",
       "  <tbody>\n",
       "    <tr>\n",
       "      <th id=\"T_e41b4_level0_row0\" class=\"row_heading level0 row0\" >university</th>\n",
       "      <td id=\"T_e41b4_row0_col0\" class=\"data row0 col0\" >0</td>\n",
       "    </tr>\n",
       "    <tr>\n",
       "      <th id=\"T_e41b4_level0_row1\" class=\"row_heading level0 row1\" >sex</th>\n",
       "      <td id=\"T_e41b4_row1_col0\" class=\"data row1 col0\" >0</td>\n",
       "    </tr>\n",
       "    <tr>\n",
       "      <th id=\"T_e41b4_level0_row2\" class=\"row_heading level0 row2\" >age</th>\n",
       "      <td id=\"T_e41b4_row2_col0\" class=\"data row2 col0\" >0</td>\n",
       "    </tr>\n",
       "    <tr>\n",
       "      <th id=\"T_e41b4_level0_row3\" class=\"row_heading level0 row3\" >address</th>\n",
       "      <td id=\"T_e41b4_row3_col0\" class=\"data row3 col0\" >0</td>\n",
       "    </tr>\n",
       "    <tr>\n",
       "      <th id=\"T_e41b4_level0_row4\" class=\"row_heading level0 row4\" >motherEducation</th>\n",
       "      <td id=\"T_e41b4_row4_col0\" class=\"data row4 col0\" >0</td>\n",
       "    </tr>\n",
       "    <tr>\n",
       "      <th id=\"T_e41b4_level0_row5\" class=\"row_heading level0 row5\" >fatherEducation</th>\n",
       "      <td id=\"T_e41b4_row5_col0\" class=\"data row5 col0\" >0</td>\n",
       "    </tr>\n",
       "    <tr>\n",
       "      <th id=\"T_e41b4_level0_row6\" class=\"row_heading level0 row6\" >motherJob</th>\n",
       "      <td id=\"T_e41b4_row6_col0\" class=\"data row6 col0\" >0</td>\n",
       "    </tr>\n",
       "    <tr>\n",
       "      <th id=\"T_e41b4_level0_row7\" class=\"row_heading level0 row7\" >fatherJob</th>\n",
       "      <td id=\"T_e41b4_row7_col0\" class=\"data row7 col0\" >0</td>\n",
       "    </tr>\n",
       "    <tr>\n",
       "      <th id=\"T_e41b4_level0_row8\" class=\"row_heading level0 row8\" >reason</th>\n",
       "      <td id=\"T_e41b4_row8_col0\" class=\"data row8 col0\" >0</td>\n",
       "    </tr>\n",
       "    <tr>\n",
       "      <th id=\"T_e41b4_level0_row9\" class=\"row_heading level0 row9\" >travelTime</th>\n",
       "      <td id=\"T_e41b4_row9_col0\" class=\"data row9 col0\" >0</td>\n",
       "    </tr>\n",
       "    <tr>\n",
       "      <th id=\"T_e41b4_level0_row10\" class=\"row_heading level0 row10\" >studyTime</th>\n",
       "      <td id=\"T_e41b4_row10_col0\" class=\"data row10 col0\" >0</td>\n",
       "    </tr>\n",
       "    <tr>\n",
       "      <th id=\"T_e41b4_level0_row11\" class=\"row_heading level0 row11\" >failures</th>\n",
       "      <td id=\"T_e41b4_row11_col0\" class=\"data row11 col0\" >0</td>\n",
       "    </tr>\n",
       "    <tr>\n",
       "      <th id=\"T_e41b4_level0_row12\" class=\"row_heading level0 row12\" >universitySupport</th>\n",
       "      <td id=\"T_e41b4_row12_col0\" class=\"data row12 col0\" >0</td>\n",
       "    </tr>\n",
       "    <tr>\n",
       "      <th id=\"T_e41b4_level0_row13\" class=\"row_heading level0 row13\" >paid</th>\n",
       "      <td id=\"T_e41b4_row13_col0\" class=\"data row13 col0\" >0</td>\n",
       "    </tr>\n",
       "    <tr>\n",
       "      <th id=\"T_e41b4_level0_row14\" class=\"row_heading level0 row14\" >higher</th>\n",
       "      <td id=\"T_e41b4_row14_col0\" class=\"data row14 col0\" >0</td>\n",
       "    </tr>\n",
       "    <tr>\n",
       "      <th id=\"T_e41b4_level0_row15\" class=\"row_heading level0 row15\" >internet</th>\n",
       "      <td id=\"T_e41b4_row15_col0\" class=\"data row15 col0\" >0</td>\n",
       "    </tr>\n",
       "    <tr>\n",
       "      <th id=\"T_e41b4_level0_row16\" class=\"row_heading level0 row16\" >romantic</th>\n",
       "      <td id=\"T_e41b4_row16_col0\" class=\"data row16 col0\" >0</td>\n",
       "    </tr>\n",
       "    <tr>\n",
       "      <th id=\"T_e41b4_level0_row17\" class=\"row_heading level0 row17\" >freeTime</th>\n",
       "      <td id=\"T_e41b4_row17_col0\" class=\"data row17 col0\" >0</td>\n",
       "    </tr>\n",
       "    <tr>\n",
       "      <th id=\"T_e41b4_level0_row18\" class=\"row_heading level0 row18\" >goOut</th>\n",
       "      <td id=\"T_e41b4_row18_col0\" class=\"data row18 col0\" >0</td>\n",
       "    </tr>\n",
       "    <tr>\n",
       "      <th id=\"T_e41b4_level0_row19\" class=\"row_heading level0 row19\" >Dalc</th>\n",
       "      <td id=\"T_e41b4_row19_col0\" class=\"data row19 col0\" >0</td>\n",
       "    </tr>\n",
       "    <tr>\n",
       "      <th id=\"T_e41b4_level0_row20\" class=\"row_heading level0 row20\" >Walc</th>\n",
       "      <td id=\"T_e41b4_row20_col0\" class=\"data row20 col0\" >0</td>\n",
       "    </tr>\n",
       "    <tr>\n",
       "      <th id=\"T_e41b4_level0_row21\" class=\"row_heading level0 row21\" >absences</th>\n",
       "      <td id=\"T_e41b4_row21_col0\" class=\"data row21 col0\" >0</td>\n",
       "    </tr>\n",
       "    <tr>\n",
       "      <th id=\"T_e41b4_level0_row22\" class=\"row_heading level0 row22\" >EPSGrade</th>\n",
       "      <td id=\"T_e41b4_row22_col0\" class=\"data row22 col0\" >0</td>\n",
       "    </tr>\n",
       "    <tr>\n",
       "      <th id=\"T_e41b4_level0_row23\" class=\"row_heading level0 row23\" >DSGrade</th>\n",
       "      <td id=\"T_e41b4_row23_col0\" class=\"data row23 col0\" >0</td>\n",
       "    </tr>\n",
       "    <tr>\n",
       "      <th id=\"T_e41b4_level0_row24\" class=\"row_heading level0 row24\" >finalGrade</th>\n",
       "      <td id=\"T_e41b4_row24_col0\" class=\"data row24 col0\" >0</td>\n",
       "    </tr>\n",
       "  </tbody>\n",
       "</table>\n"
      ],
      "text/plain": [
       "<pandas.io.formats.style.Styler at 0x76dbde377ce0>"
      ]
     },
     "metadata": {},
     "output_type": "display_data"
    }
   ],
   "source": [
    "from IPython.display import Markdown, display\n",
    "\n",
    "display(Markdown(\"### 📁 Check for NaN values\"))\n",
    "display(df.isnull().sum().to_frame(name='Null Count').style.set_caption(\"Raw Bounding Box Info\"))\n"
   ]
  },
  {
   "cell_type": "markdown",
   "metadata": {},
   "source": [
    "## **<span style=\"color: #66B2FF;\">Preprocess</span>** "
   ]
  },
  {
   "cell_type": "markdown",
   "metadata": {},
   "source": [
    "### **Handle the others values** "
   ]
  },
  {
   "cell_type": "code",
   "execution_count": 157,
   "metadata": {},
   "outputs": [
    {
     "name": "stdout",
     "output_type": "stream",
     "text": [
      "other counts for columns:\n",
      "motherJob others percentage: % 0.5465994962216625\n",
      "fatherJob others percentage: % 0.35768261964735515\n",
      "reason others percentage: % 0.09319899244332494\n"
     ]
    }
   ],
   "source": [
    "df_v1 = df.copy()\n",
    "other_ratio_mother_job = df_v1[df_v1['fatherJob'] == 'other']['fatherJob'].count() / df_v1.shape[0]\n",
    "other_ratio_fatherjob = df_v1[df_v1['motherJob'] == 'other']['motherJob'].count() / df_v1.shape[0]\n",
    "other_ration_reason = df_v1[df_v1['reason'] == 'other']['reason'].count() / df_v1.shape[0]\n",
    "\n",
    "\n",
    "print(\"other counts for columns:\")\n",
    "print(f\"motherJob others percentage: % {other_ratio_mother_job}\")\n",
    "print(f\"fatherJob others percentage: % {other_ratio_fatherjob}\")\n",
    "print(f\"reason others percentage: % {other_ration_reason}\")\n"
   ]
  },
  {
   "cell_type": "code",
   "execution_count": 158,
   "metadata": {},
   "outputs": [],
   "source": [
    "df_v2 = df_v1.drop(columns=['fatherJob', 'motherJob'])"
   ]
  },
  {
   "cell_type": "markdown",
   "metadata": {},
   "source": [
    "#### **Predict the reason** "
   ]
  },
  {
   "cell_type": "code",
   "execution_count": 159,
   "metadata": {},
   "outputs": [
    {
     "data": {
      "image/png": "[encoded data removed]",
      "text/plain": [
       "<Figure size 800x500 with 1 Axes>"
      ]
     },
     "metadata": {},
     "output_type": "display_data"
    }
   ],
   "source": [
    "reasons_ratio = df_v2['reason'].value_counts() / df_v2.shape[0]\n",
    "\n",
    "plt.figure(figsize=(8, 5))\n",
    "reasons_ratio.plot(kind='bar', color='skyblue')\n",
    "\n",
    "plt.title('Freaquency of reasons type')\n",
    "plt.xlabel('Reason')\n",
    "plt.ylabel('Ratio')\n",
    "plt.xticks(rotation=0)\n",
    "plt.tight_layout()\n",
    "plt.show()"
   ]
  },
  {
   "cell_type": "code",
   "execution_count": 160,
   "metadata": {},
   "outputs": [
    {
     "name": "stdout",
     "output_type": "stream",
     "text": [
      "reason others percentage: % 0.6216216216216216\n"
     ]
    }
   ],
   "source": [
    "near_home_other_ratio = df_v2[(df_v2['reason'] == 'other') & (df_v2['travelTime'] == 1)]['reason'].count() / df_v2[df_v2['reason'] == 'other'].shape[0]\n",
    "print(f\"reason others percentage: % {near_home_other_ratio}\")"
   ]
  },
  {
   "cell_type": "code",
   "execution_count": 161,
   "metadata": {},
   "outputs": [],
   "source": [
    "df_v2.loc[(df_v2['travelTime'] == 1) & (df['reason'] == 'other'), 'reason'] = 'home'\n",
    "df_v2.loc[df_v2['reason'] == 'other', 'reason'] = 'course'"
   ]
  },
  {
   "cell_type": "markdown",
   "metadata": {},
   "source": [
    "### **Categorical Conversion** "
   ]
  },
  {
   "cell_type": "code",
   "execution_count": 162,
   "metadata": {},
   "outputs": [],
   "source": [
    "def categorize_grade(grade):\n",
    "    if grade > 17:\n",
    "        return 'A'\n",
    "    elif 14 <= grade <= 17:\n",
    "        return 'B'\n",
    "    elif 10 <= grade < 14:\n",
    "        return 'C'\n",
    "    else:\n",
    "        return 'F'\n",
    "    \n",
    "df_v3 = df_v2.copy()\n",
    "df_v3['finalGrade'] = df_v3['finalGrade'].apply(categorize_grade)"
   ]
  },
  {
   "cell_type": "markdown",
   "metadata": {},
   "source": [
    "### **Final Data** "
   ]
  },
  {
   "cell_type": "code",
   "execution_count": 163,
   "metadata": {},
   "outputs": [],
   "source": [
    "final_df = df_v3.copy()\n",
    "final_df.to_csv(CLEANED_DATASET_PATH)"
   ]
  },
  {
   "cell_type": "markdown",
   "metadata": {},
   "source": [
    "# **<span style=\"color: #C0C0C0;\">Models</span>**"
   ]
  },
  {
   "cell_type": "code",
   "execution_count": 164,
   "metadata": {},
   "outputs": [],
   "source": [
    "df = pd.read_csv(CLEANED_DATASET_PATH)"
   ]
  },
  {
   "cell_type": "markdown",
   "metadata": {},
   "source": [
    "## **<span style=\"color: #66B2FF;\">Train-Test Split</span>** "
   ]
  },
  {
   "cell_type": "code",
   "execution_count": 165,
   "metadata": {},
   "outputs": [],
   "source": [
    "x = df.drop(columns=['finalGrade'])\n",
    "y = df['finalGrade']\n",
    "x_train, x_test, y_train, y_test = train_test_split(x, y, test_size=0.2, random_state=520)"
   ]
  },
  {
   "cell_type": "markdown",
   "metadata": {},
   "source": [
    "## **<span style=\"color: #66B2FF;\">Normalization/Standardization</span>** "
   ]
  },
  {
   "cell_type": "markdown",
   "metadata": {},
   "source": [
    "### Log-transform"
   ]
  },
  {
   "cell_type": "code",
   "execution_count": 166,
   "metadata": {},
   "outputs": [],
   "source": [
    "log_columns = ['DSGrade', 'EPSGrade']\n",
    "x_train[log_columns] = np.log1p(x_train[log_columns])\n",
    "x_test[log_columns] = np.log1p(x_test[log_columns])"
   ]
  },
  {
   "cell_type": "markdown",
   "metadata": {},
   "source": [
    "### Standardization"
   ]
  },
  {
   "cell_type": "code",
   "execution_count": 167,
   "metadata": {},
   "outputs": [],
   "source": [
    "numeric_cols = ['DSGrade', 'EPSGrade', 'age', 'absences', 'studyTime', 'freeTime', 'goOut', 'Dalc', 'Walc']\n",
    "scaler = StandardScaler()\n",
    "x_train[numeric_cols] = scaler.fit_transform(x_train[numeric_cols])\n",
    "x_test[numeric_cols] = scaler.transform(x_test[numeric_cols])"
   ]
  },
  {
   "cell_type": "markdown",
   "metadata": {},
   "source": [
    "### Encode"
   ]
  },
  {
   "cell_type": "code",
   "execution_count": 168,
   "metadata": {},
   "outputs": [],
   "source": [
    "le = LabelEncoder()\n",
    "for col in ['university', 'sex', 'address', 'reason', 'paid', 'higher', 'internet', 'romantic', 'universitySupport']:\n",
    "    x_train[col] = le.fit_transform(x_train[col])\n",
    "    x_test[col] = le.transform(x_test[col])"
   ]
  },
  {
   "cell_type": "code",
   "execution_count": 169,
   "metadata": {},
   "outputs": [],
   "source": [
    "def split(df, seed=491):\n",
    "    x = df.drop(columns=['finalGrade'])\n",
    "    y = df['finalGrade']\n",
    "    x_train, x_test, y_train, y_test = train_test_split(x, y, test_size=0.2, random_state=seed)\n",
    "\n",
    "    log_columns = ['DSGrade', 'EPSGrade']\n",
    "    x_train[log_columns] = np.log1p(x_train[log_columns])\n",
    "    x_test[log_columns] = np.log1p(x_test[log_columns])\n",
    "\n",
    "    numeric_cols = ['DSGrade', 'EPSGrade', 'age', 'absences', 'studyTime', 'freeTime', 'goOut', 'Dalc', 'Walc']\n",
    "    scaler = StandardScaler()\n",
    "    x_train[numeric_cols] = scaler.fit_transform(x_train[numeric_cols])\n",
    "    x_test[numeric_cols] = scaler.transform(x_test[numeric_cols])\n",
    "    le = LabelEncoder()\n",
    "    for col in ['university', 'sex', 'address', 'reason', 'paid', 'higher', 'internet', 'romantic', 'universitySupport']:\n",
    "        x_train[col] = le.fit_transform(x_train[col])\n",
    "        x_test[col] = le.transform(x_test[col])\n",
    "\n",
    "    return x_train, x_test, y_train, y_test\n"
   ]
  },
  {
   "cell_type": "markdown",
   "metadata": {},
   "source": [
    "## **<span style=\"color: #66B2FF;\">Sklearn Models</span>** "
   ]
  },
  {
   "cell_type": "markdown",
   "metadata": {},
   "source": [
    "### Naive Bayes"
   ]
  },
  {
   "cell_type": "code",
   "execution_count": 170,
   "metadata": {},
   "outputs": [
    {
     "name": "stdout",
     "output_type": "stream",
     "text": [
      "[[ 2  1  0  0]\n",
      " [ 0 20  0  1]\n",
      " [ 0  4 23  5]\n",
      " [ 0  0  3 21]]\n",
      "Accuracy: %82.5\n",
      "              precision    recall  f1-score   support\n",
      "\n",
      "           A       1.00      0.67      0.80         3\n",
      "           B       0.80      0.95      0.87        21\n",
      "           C       0.88      0.72      0.79        32\n",
      "           F       0.78      0.88      0.82        24\n",
      "\n",
      "    accuracy                           0.82        80\n",
      "   macro avg       0.87      0.80      0.82        80\n",
      "weighted avg       0.83      0.82      0.82        80\n",
      "\n"
     ]
    }
   ],
   "source": [
    "x_train, x_test, y_train, y_test = split(df, seed=520)\n",
    "\n",
    "model = GaussianNB()\n",
    "model.fit(x_train, y_train)\n",
    "\n",
    "y_pred = model.predict(x_test)\n",
    "\n",
    "print(confusion_matrix(y_test, y_pred))\n",
    "print(f\"Accuracy: %{accuracy_score(y_test, y_pred) * 100}\")\n",
    "print(classification_report(y_test, y_pred))\n"
   ]
  },
  {
   "cell_type": "markdown",
   "metadata": {},
   "source": [
    "### Decision Tree"
   ]
  },
  {
   "cell_type": "code",
   "execution_count": 171,
   "metadata": {},
   "outputs": [
    {
     "name": "stdout",
     "output_type": "stream",
     "text": [
      "Best Parameters: {'max_depth': 3, 'min_samples_leaf': 4, 'min_samples_split': 2}\n",
      "Accuracy: %86.25\n",
      "[[ 2  1  0  0]\n",
      " [ 0 17  1  0]\n",
      " [ 0  1 29  5]\n",
      " [ 0  0  3 21]]\n",
      "              precision    recall  f1-score   support\n",
      "\n",
      "           A       1.00      0.67      0.80         3\n",
      "           B       0.89      0.94      0.92        18\n",
      "           C       0.88      0.83      0.85        35\n",
      "           F       0.81      0.88      0.84        24\n",
      "\n",
      "    accuracy                           0.86        80\n",
      "   macro avg       0.90      0.83      0.85        80\n",
      "weighted avg       0.87      0.86      0.86        80\n",
      "\n"
     ]
    },
    {
     "data": {
      "image/png": "[encoded data removed]",
      "text/plain": [
       "<Figure size 2000x1000 with 1 Axes>"
      ]
     },
     "metadata": {},
     "output_type": "display_data"
    },
    {
     "name": "stdout",
     "output_type": "stream",
     "text": [
      "DSGrade: 0.970\n",
      "EPSGrade: 0.018\n",
      "travelTime: 0.012\n",
      "Unnamed: 0: 0.000\n",
      "university: 0.000\n",
      "sex: 0.000\n",
      "age: 0.000\n",
      "address: 0.000\n",
      "motherEducation: 0.000\n",
      "fatherEducation: 0.000\n",
      "reason: 0.000\n",
      "studyTime: 0.000\n",
      "failures: 0.000\n",
      "universitySupport: 0.000\n",
      "paid: 0.000\n",
      "higher: 0.000\n",
      "internet: 0.000\n",
      "romantic: 0.000\n",
      "freeTime: 0.000\n",
      "goOut: 0.000\n",
      "Dalc: 0.000\n",
      "Walc: 0.000\n",
      "absences: 0.000\n"
     ]
    }
   ],
   "source": [
    "x_train, x_test, y_train, y_test = split(df, seed=None)\n",
    "\n",
    "params = {\n",
    "    'max_depth': [3, 5, 7, 10],\n",
    "    'min_samples_split': [2, 5, 10],\n",
    "    'min_samples_leaf': [1, 2, 4]\n",
    "}\n",
    "\n",
    "grid_search = GridSearchCV(DecisionTreeClassifier(random_state=491, criterion='gini'), params, cv=5, scoring='accuracy')\n",
    "grid_search.fit(x_train, y_train)\n",
    "\n",
    "\n",
    "\n",
    "best_model = grid_search.best_estimator_\n",
    "y2_pred = best_model.predict(x_test)\n",
    "print(\"Best Parameters:\", grid_search.best_params_)\n",
    "print(f\"Accuracy: %{accuracy_score(y_test, y2_pred) * 100}\")\n",
    "print(confusion_matrix(y_test, y2_pred))\n",
    "print(classification_report(y_test, y2_pred))\n",
    "\n",
    "plt.figure(figsize=(20,10))\n",
    "plot_tree(best_model, feature_names=x.columns, class_names=best_model.classes_, filled=True)\n",
    "plt.show()\n",
    "\n",
    "importances = best_model.feature_importances_\n",
    "for feature, importance in sorted(zip(x.columns, importances), key=lambda x: x[1], reverse=True):\n",
    "    print(f\"{feature}: {importance:.3f}\")"
   ]
  },
  {
   "cell_type": "markdown",
   "metadata": {},
   "source": [
    "### Random Forest"
   ]
  },
  {
   "cell_type": "code",
   "execution_count": 175,
   "metadata": {},
   "outputs": [
    {
     "name": "stdout",
     "output_type": "stream",
     "text": [
      "Best Parameters: {'n_estimators': 100, 'min_samples_split': 5, 'min_samples_leaf': 1, 'max_features': 'sqrt', 'max_depth': 10}\n",
      "Accuracy: %81.25\n",
      "[[ 1  1  0  0]\n",
      " [ 1 15  3  0]\n",
      " [ 0  0 22  5]\n",
      " [ 0  0  5 27]]\n",
      "              precision    recall  f1-score   support\n",
      "\n",
      "           A       0.50      0.50      0.50         2\n",
      "           B       0.94      0.79      0.86        19\n",
      "           C       0.73      0.81      0.77        27\n",
      "           F       0.84      0.84      0.84        32\n",
      "\n",
      "    accuracy                           0.81        80\n",
      "   macro avg       0.75      0.74      0.74        80\n",
      "weighted avg       0.82      0.81      0.81        80\n",
      "\n"
     ]
    }
   ],
   "source": [
    "x_train, x_test, y_train, y_test = split(df, seed=491)\n",
    "\n",
    "\n",
    "param_dist = {\n",
    "    'n_estimators': [50, 100, 150, 200],\n",
    "    'max_depth': [None, 10, 20, 30],\n",
    "    'min_samples_split': [2, 5, 10],\n",
    "    'min_samples_leaf': [1, 2, 4],\n",
    "    'max_features': ['sqrt', 'log2']\n",
    "}\n",
    "\n",
    "rf = RandomForestClassifier(class_weight='balanced',random_state=42)\n",
    "random_search = RandomizedSearchCV(\n",
    "    estimator=rf,\n",
    "    param_distributions=param_dist,\n",
    "    n_iter=20,\n",
    "    cv=5,\n",
    "    scoring='accuracy',\n",
    "    random_state=42,\n",
    "    n_jobs=-1,\n",
    ")\n",
    "\n",
    "random_search.fit(x_train, y_train)\n",
    "\n",
    "best_rf = random_search.best_estimator_\n",
    "\n",
    "y3_pred = best_rf.predict(x_test)\n",
    "\n",
    "print(\"Best Parameters:\", random_search.best_params_)\n",
    "print(f\"Accuracy: %{accuracy_score(y_test, y3_pred) * 100}\")\n",
    "print(confusion_matrix(y_test, y3_pred))\n",
    "print(classification_report(y_test, y3_pred))\n"
   ]
  },
  {
   "cell_type": "markdown",
   "metadata": {},
   "source": [
    "### XGBoost"
   ]
  },
  {
   "cell_type": "code",
   "execution_count": 173,
   "metadata": {},
   "outputs": [],
   "source": [
    "# x_train, x_test, y_train, y_test = split(df, seed=491)\n",
    "# le = LabelEncoder()\n",
    "# y_train = le.fit_transform(y_train)\n",
    "# y_test = le.fit_transform(y_test)\n",
    "\n",
    "# xgb_model = XGBClassifier(use_label_encoder=False, eval_metric='mlogloss', random_state=42)\n",
    "\n",
    "# param_grid = {\n",
    "#     'learning_rate': [0.01, 0.1, 0.2],\n",
    "#     'n_estimators': [50, 100, 150],\n",
    "#     'max_depth': [3, 5, 7],\n",
    "#     'min_child_weight': [1, 3, 5], \n",
    "#     'min_split_loss': [0, 1],       \n",
    "#     'subsample': [0.8],             \n",
    "#     'colsample_bytree': [0.6, 0.8, 1.0], \n",
    "# }\n",
    "\n",
    "# grid_search = GridSearchCV(\n",
    "#     estimator=xgb_model,\n",
    "#     param_grid=param_grid,\n",
    "#     scoring='accuracy',\n",
    "#     cv=5,\n",
    "#     verbose=1,\n",
    "#     n_jobs=-1\n",
    "# )\n",
    "\n",
    "# grid_search.fit(x_train, y_train)\n",
    "\n",
    "# best_model = grid_search.best_estimator_\n",
    "\n",
    "# y_pred = best_model.predict(x_test)\n",
    "\n",
    "# print(\"Best Parameters:\", grid_search.best_params_)\n",
    "# print(\"Accuracy:\", accuracy_score(y_test, y_pred))\n",
    "# print(classification_report(y_test, y_pred))\n"
   ]
  },
  {
   "cell_type": "markdown",
   "metadata": {},
   "source": [
    "## **<span style=\"color: #66B2FF;\">Decision Tree from Scratch</span>** "
   ]
  },
  {
   "cell_type": "code",
   "execution_count": 174,
   "metadata": {},
   "outputs": [
    {
     "name": "stdout",
     "output_type": "stream",
     "text": [
      "Accuracy: 0.8875\n",
      "              precision    recall  f1-score   support\n",
      "\n",
      "           0       1.00      1.00      1.00         5\n",
      "           1       0.94      0.94      0.94        18\n",
      "           2       0.84      0.87      0.86        31\n",
      "           3       0.88      0.85      0.86        26\n",
      "\n",
      "    accuracy                           0.89        80\n",
      "   macro avg       0.92      0.92      0.92        80\n",
      "weighted avg       0.89      0.89      0.89        80\n",
      "\n"
     ]
    }
   ],
   "source": [
    "from DT_Core import DecisionTreeScratch\n",
    "\n",
    "x_train, x_test, y_train, y_test = split(df, seed=127)\n",
    "\n",
    "le = LabelEncoder()\n",
    "y_train = le.fit_transform(y_train)\n",
    "y_test = le.fit_transform(y_test)\n",
    "\n",
    "model = DecisionTreeScratch(\n",
    "    max_depth=4,\n",
    "    min_samples_split=2,\n",
    "    min_samples_leaf=2,\n",
    "    )\n",
    "model.fit(x_train, y_train)\n",
    "\n",
    "y_pred = model.predict(x_test.values)\n",
    "\n",
    "print(\"Accuracy:\", accuracy_score(y_test, y_pred))\n",
    "print(classification_report(y_test, y_pred))\n"
   ]
  },
  {
   "cell_type": "markdown",
   "metadata": {},
   "source": [
    "## **<span style=\"color: #66B2FF;\">Comparison with Library Implementation</span>** "
   ]
  },
  {
   "cell_type": "markdown",
   "metadata": {},
   "source": [
    "# **<span style=\"color: #C0C0C0;\">Performance Measures</span>**"
   ]
  },
  {
   "cell_type": "markdown",
   "metadata": {},
   "source": [
    "$$\n",
    "precision = \\frac{TP}{TP + FP}\n",
    "$$\n",
    "$$\n",
    "recall = \\frac{TP}{TP + FN}\n",
    "$$\n",
    "$$\n",
    "F1 = 2 * \\frac{precision * recall}{precision + recall}\n",
    "$$"
   ]
  }
 ],
 "metadata": {
  "kernelspec": {
   "display_name": "Python 3",
   "language": "python",
   "name": "python3"
  },
  "language_info": {
   "codemirror_mode": {
    "name": "ipython",
    "version": 3
   },
   "file_extension": ".py",
   "mimetype": "text/x-python",
   "name": "python",
   "nbconvert_exporter": "python",
   "pygments_lexer": "ipython3",
   "version": "3.12.3"
  },
  "orig_nbformat": 4
 },
 "nbformat": 4,
 "nbformat_minor": 2
}
